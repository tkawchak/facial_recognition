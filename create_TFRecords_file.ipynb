{
 "cells": [
  {
   "cell_type": "code",
   "execution_count": 1,
   "metadata": {
    "collapsed": true
   },
   "outputs": [],
   "source": [
    "import tensorflow as tf\n",
    "import glob\n",
    "import numpy as np\n",
    "import os\n",
    "import matplotlib.pyplot as plt"
   ]
  },
  {
   "cell_type": "code",
   "execution_count": 2,
   "metadata": {
    "collapsed": false
   },
   "outputs": [],
   "source": [
    "# specify whether we want to create tfrecords for test or training data\n",
    "# NOTE: this has to be run with 'test' and 'train'\n",
    "test_or_train = 'test'\n",
    "\n",
    "# the paths to the images\n",
    "face_image_path = './data/face_images/' + test_or_train + '/face/'\n",
    "none_image_path = './data/face_images/' + test_or_train + '/none/'\n",
    "\n",
    "# get a list of all files\n",
    "# NOTE: depending on the file exension, may have to use '.jpeg' or '.jpg'\n",
    "face_image_names = glob.glob(face_image_path + '*.jpg')  # '.jpg' or '.jpeg'\n",
    "none_image_names = glob.glob(none_image_path + '*.jpg')  # '.jpg' or '.jpeg'\n",
    "# create labels for all of the files\n",
    "# 1 for face\n",
    "# 0 for non-face\n",
    "face_image_labels = [1 for x in face_image_names]\n",
    "none_image_labels = [0 for x in none_image_names]\n",
    "\n",
    "# combine the files and labels into one list\n",
    "all_images = face_image_names + none_image_names\n",
    "all_labels = face_image_labels + none_image_labels\n",
    "\n",
    "# specify the default batch_size\n",
    "batch_size = 100\n",
    "\n",
    "# image dimensions\n",
    "image_height = 60\n",
    "image_width = 80\n",
    "image_channels = 3"
   ]
  },
  {
   "cell_type": "code",
   "execution_count": 3,
   "metadata": {
    "collapsed": false
   },
   "outputs": [],
   "source": [
    "# create a queue structure of all files to read\n",
    "filename_queue = tf.train.string_input_producer(all_images, shuffle=True)\n",
    "\n",
    "# a reader to use to read in data from the files in a queue\n",
    "reader = tf.WholeFileReader()"
   ]
  },
  {
   "cell_type": "code",
   "execution_count": 4,
   "metadata": {
    "collapsed": true
   },
   "outputs": [],
   "source": [
    "def _int64_feature(value):\n",
    "    ''' convert an integer into data appropriate to be written to tfrecord file '''\n",
    "    return tf.train.Feature(int64_list=tf.train.Int64List(value=[value]))\n",
    "\n",
    "def _bytes_feature(value):\n",
    "    ''' convert byte data into data appropriate to be written to tfrecord file '''\n",
    "    return tf.train.Feature(bytes_list=tf.train.BytesList(value=[value]))\n",
    "\n",
    "# define some operations here for encoding an image in a\n",
    "# string format to be written to tfrecord file\n",
    "raw_image_data = tf.placeholder(\"float\", [image_height, image_width, image_channels])\n",
    "raw_image_data_uint8 = tf.cast(raw_image_data, tf.uint8)\n",
    "image_string_data = tf.image.encode_jpeg(raw_image_data_uint8)\n",
    "\n",
    "# images and labels array as input\n",
    "def convert_to(images, labels, name):\n",
    "    ''' takes a group of images and labels and creates a tfrecord file '''\n",
    "    \n",
    "    # a check to see if the number of images and labels is consistent\n",
    "    num_examples = labels.shape[0]\n",
    "    if images.shape[0] != num_examples:\n",
    "        raise ValueError(\"Images size %d does not match label size %d.\" %\n",
    "                     (images.shape[0], num_examples))\n",
    "    \n",
    "    # create the file to be written to\n",
    "    filename = os.path.join('./tfrecord_files/', name + '.tfrecords')\n",
    "    print('Writing', filename)\n",
    "    writer = tf.python_io.TFRecordWriter(filename)\n",
    "    \n",
    "    # get one example at a time and write it to the tfrecord\n",
    "    for index in range(num_examples):\n",
    "        # reshape image into acceptable format\n",
    "        image_data = np.reshape(images[index], [image_height, image_width, image_channels])\n",
    "        \n",
    "        # convert image data into string type data as required by tfrecord writers\n",
    "        image_string = sess.run([image_string_data],\n",
    "                                feed_dict={raw_image_data: image_data})\n",
    "        \n",
    "        # create one example to be written to tfrecord file\n",
    "        example = tf.train.Example(features=tf.train.Features(feature={\n",
    "            'label': _int64_feature(int(labels[index])),\n",
    "            'image_raw': _bytes_feature(image_string[0])}))\n",
    "        \n",
    "        # writes the example to the tfrecord\n",
    "        writer.write(example.SerializeToString())"
   ]
  },
  {
   "cell_type": "code",
   "execution_count": 5,
   "metadata": {
    "collapsed": false
   },
   "outputs": [],
   "source": [
    "# perform initialization of tensorflow variables\n",
    "init_op = tf.global_variables_initializer()\n",
    "with tf.Session() as sess:\n",
    "    sess.run(init_op)"
   ]
  },
  {
   "cell_type": "code",
   "execution_count": null,
   "metadata": {
    "collapsed": false,
    "scrolled": true
   },
   "outputs": [],
   "source": [
    "# some code to experiment with creating tfrecord files\n",
    "# and displaying the images\n",
    "\n",
    "# this code does not need to be run but might help you to understand\n",
    "# the intermediate steps of what is going on\n",
    "\n",
    "filename, content = reader.read(filename_queue)\n",
    "\n",
    "image = tf.image.decode_jpeg(content, channels=3) \n",
    "image1 = tf.cast(image, tf.float32)\n",
    "image2= tf.image.resize_images(image1, [60, 80])\n",
    "\n",
    "test_or_train = 'prac'\n",
    "\n",
    "with tf.Session() as sess:\n",
    "    coord = tf.train.Coordinator()\n",
    "    threads = tf.train.start_queue_runners(coord=coord, sess=sess)\n",
    "    \n",
    "    images = []\n",
    "    labels = []\n",
    "    for i in range(5):\n",
    "        file, im = sess.run([filename, image2])\n",
    "        \n",
    "        lab = 0\n",
    "        if b'/face/' in file:\n",
    "            lab = 1\n",
    "        print(lab)\n",
    "        \n",
    "        im = np.reshape(im, [60, 80, 3])\n",
    "        \n",
    "        plt.imshow(255*im)\n",
    "        plt.show()\n",
    "        \n",
    "        images.append(im)\n",
    "        labels.append([all_labels[i]])\n",
    "        \n",
    "    images = np.array(images)\n",
    "    print(images.shape)\n",
    "    labels = np.array(labels)\n",
    "    print(labels.shape)\n",
    "    #convert_to(images, labels, 'practice')\n",
    "\n",
    "    coord.request_stop()\n",
    "    coord.join(threads)"
   ]
  },
  {
   "cell_type": "code",
   "execution_count": 6,
   "metadata": {
    "collapsed": false,
    "scrolled": true
   },
   "outputs": [
    {
     "name": "stdout",
     "output_type": "stream",
     "text": [
      "preparing 248 images.\n",
      "Writing ./tfrecord_files/test0.tfrecords\n",
      "Writing ./tfrecord_files/test1.tfrecords\n",
      "tf records created!!\n"
     ]
    }
   ],
   "source": [
    "# retrieves images and image file names from the queue of image file names\n",
    "filename, content = reader.read(filename_queue)\n",
    "\n",
    "# specify how to decode an image\n",
    "image = tf.image.decode_jpeg(content)\n",
    "image1 = tf.cast(image, tf.float32)\n",
    "image2 = tf.image.resize_images(image1, [image_height, image_width])\n",
    "\n",
    "# start using the tf session\n",
    "with tf.Session() as sess:\n",
    "    \n",
    "    # start thread coordinators for running operations in tensorflow\n",
    "    coord = tf.train.Coordinator()\n",
    "    threads = tf.train.start_queue_runners(coord=coord, sess=sess)\n",
    "    \n",
    "    # get the number of images in the directory\n",
    "    num_images = len(all_images)\n",
    "\n",
    "    print('preparing ' + str(num_images) + ' images.')\n",
    "    \n",
    "    # some initializations for the creation of tfrecords\n",
    "    images = []\n",
    "    labels = []\n",
    "    batch_size = batch_size\n",
    "    # keep track of which batch we are on\n",
    "    batch_num = 0\n",
    "    # keep track of which image in a batch we have processed\n",
    "    batch_counter = 0\n",
    "    \n",
    "    for i in range(num_images):\n",
    "        batch_counter += 1\n",
    "        \n",
    "        # get the image filename and string encoded image\n",
    "        file, im = sess.run([filename, image2])\n",
    "        \n",
    "        # determine the label of the image from the filename\n",
    "        lab = 0\n",
    "        if b'/face/' in file:\n",
    "            lab = 1\n",
    "        \n",
    "        images.append(im)\n",
    "        labels.append(lab)\n",
    "        \n",
    "        # once we have enough images for our batch, we can write to the tfrecords\n",
    "        # file and then start over again\n",
    "        if batch_counter >= batch_size:\n",
    "            images = np.array(images)\n",
    "            labels = np.array(labels)\n",
    "            convert_to(images, labels, test_or_train + str(batch_num))\n",
    "            batch_counter = 0\n",
    "            batch_num += 1\n",
    "            images = []\n",
    "            labels = []\n",
    "    \n",
    "    print('tf records created!!')\n",
    "\n",
    "    # stop the threads and wait for the to finish\n",
    "    coord.request_stop()\n",
    "    coord.join(threads)\n",
    "\n"
   ]
  },
  {
   "cell_type": "code",
   "execution_count": null,
   "metadata": {
    "collapsed": true
   },
   "outputs": [],
   "source": []
  }
 ],
 "metadata": {
  "kernelspec": {
   "display_name": "Python 3",
   "language": "python",
   "name": "python3"
  },
  "language_info": {
   "codemirror_mode": {
    "name": "ipython",
    "version": 3
   },
   "file_extension": ".py",
   "mimetype": "text/x-python",
   "name": "python",
   "nbconvert_exporter": "python",
   "pygments_lexer": "ipython3",
   "version": "3.5.2"
  }
 },
 "nbformat": 4,
 "nbformat_minor": 1
}
