{
 "cells": [
  {
   "cell_type": "code",
   "execution_count": 73,
   "metadata": {
    "collapsed": false
   },
   "outputs": [],
   "source": [
    "import tensorflow as tf\n",
    "import glob\n",
    "import numpy as np"
   ]
  },
  {
   "cell_type": "code",
   "execution_count": 82,
   "metadata": {
    "collapsed": false
   },
   "outputs": [],
   "source": [
    "# Parameters\n",
    "learning_rate = 0.001\n",
    "training_iters = 15000\n",
    "batch_size = 100\n",
    "test_size = 200\n",
    "dropout = 0.8  # probability that an element is kept\n",
    "\n",
    "# how often to display training accuracy status\n",
    "display_step_count = 10\n",
    "\n",
    "# input parameters\n",
    "height = 60\n",
    "width = 80\n",
    "channels = 3\n",
    "\n",
    "# Network Parameters\n",
    "n_input = 60*80 # input image\n",
    "n_classes = 2 # face or no face\n",
    "\n",
    "# tf Graph input\n",
    "x = tf.placeholder(\"float\", [None, n_input*channels])\n",
    "y = tf.placeholder(\"float\", [None, n_classes])\n",
    "keep_prob = tf.placeholder(tf.float32)"
   ]
  },
  {
   "cell_type": "code",
   "execution_count": 83,
   "metadata": {
    "collapsed": false
   },
   "outputs": [],
   "source": [
    "def conv2d(x, w, b, strides=1):\n",
    "    ''' perform a convolution and relu activation '''\n",
    "    x = tf.nn.conv2d(x, w, strides=[1, strides, strides, 1], padding='SAME')\n",
    "    x = tf.nn.bias_add(x, b)\n",
    "    return tf.nn.relu(x)\n",
    "\n",
    "def maxpool2d(x, k=2):\n",
    "    ''' perform a maxpool operation for kxk blocks '''\n",
    "    # MaxPool2D wrapper\n",
    "    return tf.nn.max_pool(x, ksize=[1, k, k, 1], strides=[1, k, k, 1],\n",
    "                          padding='SAME')\n",
    "\n",
    "def fullconnect(x, w, b, dropout):\n",
    "    ''' perform a fully connected layer operation '''\n",
    "    x = tf.add(tf.matmul(x, w), b)\n",
    "    x = tf.nn.relu(x)\n",
    "    x = tf.nn.dropout(x, dropout)\n",
    "    return x"
   ]
  },
  {
   "cell_type": "code",
   "execution_count": 84,
   "metadata": {
    "collapsed": true
   },
   "outputs": [],
   "source": [
    "# create the network\n",
    "# this displays output to verify that all of the layers are the correct size\n",
    "# and that connections have been properly made\n",
    "\n",
    "def conv_net(x, weights, biases, dropout):\n",
    "    ''' create the convolutional neural network '''\n",
    "    \n",
    "    # Reshape the input picture for convolution layers\n",
    "    x = tf.reshape(x, shape=[-1, 60, 80, 3])\n",
    "    print(x.get_shape().as_list())\n",
    "    \n",
    "    # convolution and max pool layers\n",
    "    conv1 = conv2d(x, weights['wc1'], biases['bc1'])\n",
    "    print(conv1.get_shape().as_list())\n",
    "    maxp1 = maxpool2d(conv1, k=2)\n",
    "    print(maxp1.get_shape().as_list())\n",
    "    conv2 = conv2d(maxp1, weights['wc2'], biases['bc2'])\n",
    "    print(conv2.get_shape().as_list())\n",
    "    maxp2 = maxpool2d(conv2, k=2)\n",
    "    \n",
    "    # reshape input for fully connected layers\n",
    "    x_fc = tf.reshape(maxp2, shape=[-1, weights['wd1'].get_shape().as_list()[0]])\n",
    "    \n",
    "    print(x_fc.get_shape().as_list())\n",
    "    \n",
    "    # fully connected layers \n",
    "    fc1 = fullconnect(x_fc, weights['wd1'], biases['bd1'], dropout)\n",
    "    print(fc1.get_shape().as_list())\n",
    "    fc2 = fullconnect(fc1, weights['wd2'], biases['bd2'], dropout)\n",
    "    print(fc2.get_shape().as_list())\n",
    "    \n",
    "    # output layer\n",
    "    out = tf.add(tf.matmul(fc2, weights['out']), biases['out'])\n",
    "    print(out.get_shape().as_list())\n",
    "    return out"
   ]
  },
  {
   "cell_type": "code",
   "execution_count": 85,
   "metadata": {
    "collapsed": true
   },
   "outputs": [],
   "source": [
    "def one_hot_encode(input_array, digits):\n",
    "    ''' takes an array of input labels and converts it to one-hot encoded labels '''\n",
    "    enc_array = []\n",
    "    for i in range(input_array.shape[0]):\n",
    "        encoded = [0 for x in range(digits)]\n",
    "        encoded[input_array[i]] = 1\n",
    "        enc_array.append(encoded)\n",
    "    return enc_array"
   ]
  },
  {
   "cell_type": "code",
   "execution_count": 86,
   "metadata": {
    "collapsed": true
   },
   "outputs": [],
   "source": [
    "def read_and_decode(reader, filename_queue, num_images):\n",
    "    ''' takes a reader, file queue, and a number of images to make a batch out of.\n",
    "        returns the batch of images and labels'''\n",
    "    images = []\n",
    "    labels = []\n",
    "    \n",
    "    for i in range(num_images):\n",
    "        \n",
    "        # get the next example from the tfrecord\n",
    "        _, serialized_example = reader.read(filename_queue)\n",
    "        \n",
    "        # parse the example and store it in features\n",
    "        features = tf.parse_single_example(\n",
    "            serialized_example,\n",
    "            features={\n",
    "                'label': tf.FixedLenFeature([], tf.int64),\n",
    "                'image_raw': tf.FixedLenFeature([], tf.string)\n",
    "            })\n",
    "        \n",
    "        # extract the data from features\n",
    "        image_data = features['image_raw']\n",
    "        image = tf.image.decode_jpeg(image_data, channels=image_channels)\n",
    "        label = features['label']\n",
    "\n",
    "        # reshape the images and labels to something easier to deal with\n",
    "        image = tf.reshape(image, [image_height, image_width, image_channels])\n",
    "        image = tf.cast(image, tf.float32)\n",
    "        label = tf.cast(label, tf.int32)\n",
    "        \n",
    "        images.append(image)\n",
    "        labels.append(label)\n",
    "\n",
    "    return images, labels"
   ]
  },
  {
   "cell_type": "code",
   "execution_count": 87,
   "metadata": {
    "collapsed": false,
    "scrolled": true
   },
   "outputs": [],
   "source": [
    "# the path where all of the training records are kept\n",
    "train_record_path = '/media/tom/Files/MyPrograms/Python27/tensorflow_CNN/tfrecord_files/'\n",
    "test_record_path = '/media/tom/Files/MyPrograms/Python27/tensorflow_CNN/tfrecord_files/'\n",
    "\n",
    "# enumerate the files within the directories\n",
    "train_files = glob.glob(train_record_path + 'train*.tfrecords')\n",
    "test_files = glob.glob(test_record_path + 'test*.tfrecords')\n",
    "\n",
    "# create queues for test and training data\n",
    "train_queue = tf.train.string_input_producer(train_files, shuffle=True)\n",
    "test_queue = tf.train.string_input_producer(test_files, shuffle=True)\n",
    "\n",
    "# create readers to read data\n",
    "train_reader = tf.TFRecordReader()\n",
    "test_reader = tf.TFRecordReader()\n",
    "\n",
    "# specify the operations to read data\n",
    "train_image, train_label = read_and_decode(train_reader, train_queue, batch_size)\n",
    "test_image, test_label = read_and_decode(test_reader, test_queue, test_size)"
   ]
  },
  {
   "cell_type": "code",
   "execution_count": 91,
   "metadata": {
    "collapsed": false
   },
   "outputs": [
    {
     "name": "stdout",
     "output_type": "stream",
     "text": [
      "[None, 60, 80, 3]\n",
      "[None, 60, 80, 64]\n",
      "[None, 30, 40, 64]\n",
      "[None, 30, 40, 32]\n",
      "[None, 9600]\n",
      "[None, 1024]\n",
      "[None, 256]\n",
      "[None, 2]\n"
     ]
    }
   ],
   "source": [
    "# Store layers weight & bias\n",
    "weights = {\n",
    "    # convolution layer\n",
    "    # apply 64 of 7 x 7 filters to input shape of\n",
    "    # 72 x 128 x 1 to produce 72 x 128 x 64 output\n",
    "    'wc1': tf.Variable(tf.random_normal([5, 5, 3, 64])),\n",
    "    # convolution layer\n",
    "    # apply 64 of 5 x 5 filters to input shape of\n",
    "    # 36 x 64 x 64 to produce 36 x 64 x 64 outputs\n",
    "    'wc2': tf.Variable(tf.random_normal([3, 3, 64, 32])),\n",
    "    \n",
    "    # fully  connected\n",
    "    # input shape of 9 x 16 x 32 = 18432, output of 4096\n",
    "    'wd1': tf.Variable(tf.random_normal([32*15*20, 1024])),\n",
    "    # fully connected\n",
    "    # input shape of 4096, output of 1024\n",
    "    'wd2': tf.Variable(tf.random_normal([1024, 256])),\n",
    "    \n",
    "    # final output layer\n",
    "    # input of 256, output of n_classes for classification\n",
    "    'out': tf.Variable(tf.random_normal([256, n_classes]))\n",
    "}\n",
    "biases = {\n",
    "    # convolutions - one bias for each output layer\n",
    "    'bc1': tf.Variable(tf.random_normal([64])),\n",
    "    'bc2': tf.Variable(tf.random_normal([32])),\n",
    "    'bc3': tf.Variable(tf.random_normal([32])),\n",
    "    \n",
    "    # fully connected - one bias for number of output nodes\n",
    "    'bd1': tf.Variable(tf.random_normal([1024])),\n",
    "    'bd2': tf.Variable(tf.random_normal([256])),\n",
    "    \n",
    "    # final layer - one bias for every output class\n",
    "    'out': tf.Variable(tf.random_normal([n_classes]))\n",
    "}\n",
    "\n",
    "# Construct Model\n",
    "pred = conv_net(x, weights, biases, dropout)\n",
    "\n",
    "# Define loss and optimizer\n",
    "cost = tf.reduce_mean(tf.nn.softmax_cross_entropy_with_logits(pred, y))\n",
    "optimizer = tf.train.AdamOptimizer(learning_rate=learning_rate).minimize(cost)\n",
    "\n",
    "# define the accuracy functions\n",
    "correct_pred = tf.equal(tf.argmax(pred, 1), tf.argmax(y, 1))\n",
    "accuracy = tf.reduce_mean(tf.cast(correct_pred, tf.float32))\n",
    "\n",
    "# Initializing the Variables\n",
    "init = tf.global_variables_initializer()"
   ]
  },
  {
   "cell_type": "code",
   "execution_count": null,
   "metadata": {
    "collapsed": false,
    "scrolled": false
   },
   "outputs": [],
   "source": [
    "with tf.Session() as sess:\n",
    "    sess.run(init)\n",
    "    \n",
    "    # not sure why these are needed, but sess.run() will get stuck\n",
    "    # if these are not included.\n",
    "    # these are accompanied by two commands at the end of the with clause\n",
    "    coord = tf.train.Coordinator()\n",
    "    threads = tf.train.start_queue_runners(coord=coord, sess=sess)\n",
    "    \n",
    "    # read in the test data so that it can be used without being re-read\n",
    "    test_images, test_labels = sess.run([test_image, test_label])\n",
    "    \n",
    "    # processing to get the test data into a format that is more easily dealt with\n",
    "    test_x = np.array(test_images)\n",
    "    test_x = np.reshape(test_x, [test_data, n_input*channels])\n",
    "    test_y = np.array(test_labels)\n",
    "    test_y = one_hot_encode(test_y, n_classes)\n",
    "    test_y = np.array(test_y)\n",
    "    \n",
    "    print('training iterations: ' + str(training_iters))\n",
    "    \n",
    "    epoch = 1\n",
    "    while epoch * batch_size < training_iters:\n",
    "        \n",
    "        # get the training batch of images and labels\n",
    "        batch_x, batch_y = sess.run([train_image, train_label])\n",
    "        \n",
    "        # process the training batch data\n",
    "        batch_x = np.array(batch_x)\n",
    "        batch_x = np.reshape(batch_x, [batch_size, n_input*channels])\n",
    "        batch_y = np.array(batch_y)\n",
    "        batch_y = one_hot_encode(batch_y, n_classes)\n",
    "        batch_y = np.array(batch_y)\n",
    "        \n",
    "        # Run optimization (backpropagation)\n",
    "        sess.run(optimizer, feed_dict={x: batch_x, y:batch_y, keep_prob: dropout})\n",
    "        \n",
    "        # we want to periodically display the accuracy of our model\n",
    "        if epoch % display_step_count == 0:\n",
    "            \n",
    "            # Calculate the batch loss and accuracy\n",
    "            loss, acc = sess.run([cost, accuracy], feed_dict={x:test_x, y:test_y, keep_prob: 1.})\n",
    "            print (\"Iter \" + str(step*batch_size) + \", Minibatch Loss= \" + \\\n",
    "                  \"{:.6f}\".format(loss) + \", Training Accuracy= \" + \\\n",
    "                  \"{:.5f}\".format(acc))\n",
    "        \n",
    "        # increment the step for training\n",
    "        epoch += 1\n",
    "        \n",
    "    print (\"Optimization Finished!\")\n",
    "    \n",
    "    # Calculate accuracy for test set\n",
    "    print (\"Testing Accuracy:\", sess.run(accuracy, feed_dict={x: test_x, y: test_y, keep_prob: 1.}))\n",
    "    \n",
    "    # here, we could save the model to some format to use later\n",
    "    # or run predictions on other images\n",
    "    # i haven't implemented these yet since I don't have direct applicatins made yet\n",
    "    # and these will depend upon the user\n",
    "    \n",
    "    coord.request_stop()\n",
    "    coord.join(threads)\n",
    "    "
   ]
  },
  {
   "cell_type": "code",
   "execution_count": 28,
   "metadata": {
    "collapsed": false
   },
   "outputs": [],
   "source": [
    "# visualize the tensorflow graph\n",
    "# run this and then visualize with \"tensorboard --logdir=\"CNN_graph\"\n",
    "\n",
    "# the operations in the graph can be given names so that they are easier to understand\n",
    "# when visualizing in tensorboard\n",
    "\n",
    "graph = tf.get_default_graph()\n",
    "\n",
    "with tf.Session() as sess:\n",
    "    summary_writer = tf.summary.FileWriter('CNN_graph', sess.graph)"
   ]
  },
  {
   "cell_type": "code",
   "execution_count": null,
   "metadata": {
    "collapsed": true
   },
   "outputs": [],
   "source": []
  }
 ],
 "metadata": {
  "kernelspec": {
   "display_name": "Python 3",
   "language": "python",
   "name": "python3"
  },
  "language_info": {
   "codemirror_mode": {
    "name": "ipython",
    "version": 3
   },
   "file_extension": ".py",
   "mimetype": "text/x-python",
   "name": "python",
   "nbconvert_exporter": "python",
   "pygments_lexer": "ipython3",
   "version": "3.5.2"
  }
 },
 "nbformat": 4,
 "nbformat_minor": 2
}
